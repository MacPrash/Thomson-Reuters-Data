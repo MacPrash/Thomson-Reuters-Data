{
 "cells": [
  {
   "cell_type": "code",
   "execution_count": 193,
   "metadata": {},
   "outputs": [],
   "source": [
    "import sys\n",
    "import eikon as ek\n",
    "import pandas as pd\n",
    "ek.set_app_key(\"XXXXXXXXXXXXXXXX\")"
   ]
  },
  {
   "cell_type": "code",
   "execution_count": null,
   "metadata": {},
   "outputs": [],
   "source": [
    "count = 0\n",
    "for company in list['ColName']:\n",
    "    try:        \n",
    "        ret = ek.get_timeseries([company], start_date=\"2000-01-01\",  end_date=\"2009-01-01\", raw_output=True)\n",
    "        ret1 = ek.get_timeseries([company], start_date=\"2009-01-01\",  end_date=\"2018-12-31\", raw_output=True)\n",
    "        mk, err = ek.get_data([company], \n",
    "                      ['TR.Revenue.date','TR.Revenue','TR.GrossProfit','TR.CompanyMarketCap'])\n",
    "        print(count)\n",
    "        \n",
    "        #if((mk.iloc[0]['Company Market Cap'])/1000000000 > 2):\n",
    "            #print(mk.iloc[0]['Company Market Cap'])\n",
    "        #   print(\"--\"+count+\"--\")\n",
    "            #print((mk.iloc[0]['Company Market Cap'])/1000000000)\n",
    "\n",
    "\n",
    "        for data in ret['timeseriesData']:\n",
    "            df = pd.DataFrame(data['dataPoints'], columns=[f['name'] for f in data['fields']]).set_index('TIMESTAMP', drop=False)\n",
    "            #print(\"Serie[{}]\".format(data[\"ric\"]))\n",
    "            #print(df)\n",
    "\n",
    "        for data in ret1['timeseriesData']:\n",
    "            df1 = pd.DataFrame(data['dataPoints'], columns=[f['name'] for f in data['fields']]).set_index('TIMESTAMP', drop=False)\n",
    "            #print(\"Serie[{}]\".format(data[\"ric\"]))\n",
    "        #print(df1)\n",
    "        frames = [df, df1]\n",
    "        result = pd.concat(frames)\n",
    "        Date = pd.DataFrame(result.TIMESTAMP.str.split('T',1).tolist(), columns = ['Date','Nonsence'])\n",
    "        result['TIMESTAMP'] = (Date[\"Date\"]).tolist()\n",
    "\n",
    "\n",
    "        #export_csv = result.to_csv (r'/Users/prash/Code/Stock/'+company+'.csv', index = None, header=True)\n",
    "        if((mk.iloc[0]['Company Market Cap'])/1000000000 > 2):\n",
    "            result['Mkt Cap (in Billions)'] = (mk.iloc[0]['Company Market Cap'])/1000000000\n",
    "            export_csv = result.to_excel (r'/Users/prash/Code/Stock/2bn/'+company+'.xlsx', index = None, header=True)\n",
    "            #print(company)\n",
    "        else:\n",
    "            if((((mk.iloc[0]['Company Market Cap'])/1000000000)) >= 1):\n",
    "                result['Mkt Cap (in Billions)'] = (((mk.iloc[0]['Company Market Cap'])/1000000000))\n",
    "                export_csv = result.to_excel (r'/Users/prash/Code/Stock/Less2bn/'+company+'.xlsx', index = None, header=True)\n",
    "    \n",
    "            else:    \n",
    "                result['Mkt Cap (in Millions)'] = ((mk.iloc[0]['Company Market Cap'])/1000000000)*1000\n",
    "                export_csv = result.to_excel (r'/Users/prash/Code/Stock/Less2bn/'+company+'.xlsx', index = None, header=True)\n",
    "\n",
    "\n",
    "        count += 1\n",
    "    except:\n",
    "         print \"FAILED FOR: \"+ company"
   ]
  },
  {
   "cell_type": "code",
   "execution_count": 176,
   "metadata": {},
   "outputs": [],
   "source": [
    "list = pd.read_excel (r'/Users/prash/Code/Stock/Sample.xlsx')"
   ]
  },
  {
   "cell_type": "code",
   "execution_count": 161,
   "metadata": {},
   "outputs": [
    {
     "data": {
      "text/plain": [
       "(51, 14)"
      ]
     },
     "execution_count": 161,
     "metadata": {},
     "output_type": "execute_result"
    }
   ],
   "source": [
    "list.shape"
   ]
  }
 ],
 "metadata": {
  "kernelspec": {
   "display_name": "Python 2",
   "language": "python",
   "name": "python2"
  },
  "language_info": {
   "codemirror_mode": {
    "name": "ipython",
    "version": 2
   },
   "file_extension": ".py",
   "mimetype": "text/x-python",
   "name": "python",
   "nbconvert_exporter": "python",
   "pygments_lexer": "ipython2",
   "version": "2.7.14"
  }
 },
 "nbformat": 4,
 "nbformat_minor": 2
}
